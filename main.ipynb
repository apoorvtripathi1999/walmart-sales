{
 "cells": [
  {
   "cell_type": "code",
   "execution_count": 2,
   "metadata": {},
   "outputs": [],
   "source": [
    "import pandas as pd\n",
    "from google.cloud import bigquery\n",
    "import os\n",
    "os.environ['GOOGLE_APPLICATION_CREDENTIALS'] = 'key.json'"
   ]
  },
  {
   "cell_type": "code",
   "execution_count": 3,
   "metadata": {},
   "outputs": [
    {
     "name": "stderr",
     "output_type": "stream",
     "text": [
      "c:\\Users\\apoor\\anaconda3\\Lib\\site-packages\\google\\cloud\\bigquery\\table.py:1820: UserWarning: BigQuery Storage module not found, fetch data with the REST endpoint instead.\n",
      "  warnings.warn(\n"
     ]
    }
   ],
   "source": [
    "bigquery_client = bigquery.Client()\n",
    "query = \"SELECT * FROM `lab1-449822.walmartsales.sales` LIMIT 1000\"\n",
    "query_result = bigquery_client.query(query)\n",
    "df = query_result.to_dataframe()"
   ]
  },
  {
   "cell_type": "code",
   "execution_count": 4,
   "metadata": {},
   "outputs": [
    {
     "data": {
      "text/html": [
       "<div>\n",
       "<style scoped>\n",
       "    .dataframe tbody tr th:only-of-type {\n",
       "        vertical-align: middle;\n",
       "    }\n",
       "\n",
       "    .dataframe tbody tr th {\n",
       "        vertical-align: top;\n",
       "    }\n",
       "\n",
       "    .dataframe thead th {\n",
       "        text-align: right;\n",
       "    }\n",
       "</style>\n",
       "<table border=\"1\" class=\"dataframe\">\n",
       "  <thead>\n",
       "    <tr style=\"text-align: right;\">\n",
       "      <th></th>\n",
       "      <th>SalesID</th>\n",
       "      <th>SalesPersonID</th>\n",
       "      <th>CustomerID</th>\n",
       "      <th>ProductID</th>\n",
       "      <th>Quantity</th>\n",
       "      <th>Discount</th>\n",
       "      <th>SalesDate</th>\n",
       "      <th>TransactionNumber</th>\n",
       "    </tr>\n",
       "  </thead>\n",
       "  <tbody>\n",
       "    <tr>\n",
       "      <th>0</th>\n",
       "      <td>5009989</td>\n",
       "      <td>8</td>\n",
       "      <td>187</td>\n",
       "      <td>1</td>\n",
       "      <td>1</td>\n",
       "      <td>20.0</td>\n",
       "      <td>2018-04-18 11:01:41.650000+00:00</td>\n",
       "      <td>NJXO9OMASAZ70EN5PLD6</td>\n",
       "    </tr>\n",
       "    <tr>\n",
       "      <th>1</th>\n",
       "      <td>2392053</td>\n",
       "      <td>16</td>\n",
       "      <td>373</td>\n",
       "      <td>1</td>\n",
       "      <td>1</td>\n",
       "      <td>10.0</td>\n",
       "      <td>2018-02-11 18:50:31.420000+00:00</td>\n",
       "      <td>WAMOVNOI65788AF1OTGF</td>\n",
       "    </tr>\n",
       "    <tr>\n",
       "      <th>2</th>\n",
       "      <td>3431847</td>\n",
       "      <td>8</td>\n",
       "      <td>374</td>\n",
       "      <td>1</td>\n",
       "      <td>1</td>\n",
       "      <td>10.0</td>\n",
       "      <td>2018-01-03 23:01:14.080000+00:00</td>\n",
       "      <td>X91RH0YQ1OASUEKUHBRI</td>\n",
       "    </tr>\n",
       "    <tr>\n",
       "      <th>3</th>\n",
       "      <td>117790</td>\n",
       "      <td>16</td>\n",
       "      <td>639</td>\n",
       "      <td>1</td>\n",
       "      <td>1</td>\n",
       "      <td>5.0</td>\n",
       "      <td>2018-04-10 23:23:13.520000+00:00</td>\n",
       "      <td>P5CHR7HVJJYLE1UZCK37</td>\n",
       "    </tr>\n",
       "    <tr>\n",
       "      <th>4</th>\n",
       "      <td>6256350</td>\n",
       "      <td>8</td>\n",
       "      <td>717</td>\n",
       "      <td>1</td>\n",
       "      <td>1</td>\n",
       "      <td>10.0</td>\n",
       "      <td>2018-04-07 07:47:29.460000+00:00</td>\n",
       "      <td>O1N0P8SGIFM7Y0JJJCJI</td>\n",
       "    </tr>\n",
       "  </tbody>\n",
       "</table>\n",
       "</div>"
      ],
      "text/plain": [
       "   SalesID  SalesPersonID  CustomerID  ProductID  Quantity  Discount  \\\n",
       "0  5009989              8         187          1         1      20.0   \n",
       "1  2392053             16         373          1         1      10.0   \n",
       "2  3431847              8         374          1         1      10.0   \n",
       "3   117790             16         639          1         1       5.0   \n",
       "4  6256350              8         717          1         1      10.0   \n",
       "\n",
       "                         SalesDate     TransactionNumber  \n",
       "0 2018-04-18 11:01:41.650000+00:00  NJXO9OMASAZ70EN5PLD6  \n",
       "1 2018-02-11 18:50:31.420000+00:00  WAMOVNOI65788AF1OTGF  \n",
       "2 2018-01-03 23:01:14.080000+00:00  X91RH0YQ1OASUEKUHBRI  \n",
       "3 2018-04-10 23:23:13.520000+00:00  P5CHR7HVJJYLE1UZCK37  \n",
       "4 2018-04-07 07:47:29.460000+00:00  O1N0P8SGIFM7Y0JJJCJI  "
      ]
     },
     "execution_count": 4,
     "metadata": {},
     "output_type": "execute_result"
    }
   ],
   "source": [
    "df.head()"
   ]
  },
  {
   "cell_type": "code",
   "execution_count": 5,
   "metadata": {},
   "outputs": [
    {
     "data": {
      "text/html": [
       "<div>\n",
       "<style scoped>\n",
       "    .dataframe tbody tr th:only-of-type {\n",
       "        vertical-align: middle;\n",
       "    }\n",
       "\n",
       "    .dataframe tbody tr th {\n",
       "        vertical-align: top;\n",
       "    }\n",
       "\n",
       "    .dataframe thead th {\n",
       "        text-align: right;\n",
       "    }\n",
       "</style>\n",
       "<table border=\"1\" class=\"dataframe\">\n",
       "  <thead>\n",
       "    <tr style=\"text-align: right;\">\n",
       "      <th></th>\n",
       "      <th>SalesID</th>\n",
       "      <th>SalesPersonID</th>\n",
       "      <th>CustomerID</th>\n",
       "      <th>ProductID</th>\n",
       "      <th>Quantity</th>\n",
       "      <th>Discount</th>\n",
       "      <th>SalesDate</th>\n",
       "      <th>TransactionNumber</th>\n",
       "    </tr>\n",
       "  </thead>\n",
       "  <tbody>\n",
       "    <tr>\n",
       "      <th>0</th>\n",
       "      <td>5009989</td>\n",
       "      <td>8</td>\n",
       "      <td>187</td>\n",
       "      <td>1</td>\n",
       "      <td>1</td>\n",
       "      <td>20.0</td>\n",
       "      <td>2018-04-18</td>\n",
       "      <td>NJXO9OMASAZ70EN5PLD6</td>\n",
       "    </tr>\n",
       "    <tr>\n",
       "      <th>1</th>\n",
       "      <td>2392053</td>\n",
       "      <td>16</td>\n",
       "      <td>373</td>\n",
       "      <td>1</td>\n",
       "      <td>1</td>\n",
       "      <td>10.0</td>\n",
       "      <td>2018-02-11</td>\n",
       "      <td>WAMOVNOI65788AF1OTGF</td>\n",
       "    </tr>\n",
       "    <tr>\n",
       "      <th>2</th>\n",
       "      <td>3431847</td>\n",
       "      <td>8</td>\n",
       "      <td>374</td>\n",
       "      <td>1</td>\n",
       "      <td>1</td>\n",
       "      <td>10.0</td>\n",
       "      <td>2018-01-03</td>\n",
       "      <td>X91RH0YQ1OASUEKUHBRI</td>\n",
       "    </tr>\n",
       "    <tr>\n",
       "      <th>3</th>\n",
       "      <td>117790</td>\n",
       "      <td>16</td>\n",
       "      <td>639</td>\n",
       "      <td>1</td>\n",
       "      <td>1</td>\n",
       "      <td>5.0</td>\n",
       "      <td>2018-04-10</td>\n",
       "      <td>P5CHR7HVJJYLE1UZCK37</td>\n",
       "    </tr>\n",
       "    <tr>\n",
       "      <th>4</th>\n",
       "      <td>6256350</td>\n",
       "      <td>8</td>\n",
       "      <td>717</td>\n",
       "      <td>1</td>\n",
       "      <td>1</td>\n",
       "      <td>10.0</td>\n",
       "      <td>2018-04-07</td>\n",
       "      <td>O1N0P8SGIFM7Y0JJJCJI</td>\n",
       "    </tr>\n",
       "  </tbody>\n",
       "</table>\n",
       "</div>"
      ],
      "text/plain": [
       "   SalesID  SalesPersonID  CustomerID  ProductID  Quantity  Discount  \\\n",
       "0  5009989              8         187          1         1      20.0   \n",
       "1  2392053             16         373          1         1      10.0   \n",
       "2  3431847              8         374          1         1      10.0   \n",
       "3   117790             16         639          1         1       5.0   \n",
       "4  6256350              8         717          1         1      10.0   \n",
       "\n",
       "    SalesDate     TransactionNumber  \n",
       "0  2018-04-18  NJXO9OMASAZ70EN5PLD6  \n",
       "1  2018-02-11  WAMOVNOI65788AF1OTGF  \n",
       "2  2018-01-03  X91RH0YQ1OASUEKUHBRI  \n",
       "3  2018-04-10  P5CHR7HVJJYLE1UZCK37  \n",
       "4  2018-04-07  O1N0P8SGIFM7Y0JJJCJI  "
      ]
     },
     "execution_count": 5,
     "metadata": {},
     "output_type": "execute_result"
    }
   ],
   "source": [
    "df['SalesDate'] = pd.to_datetime(df['SalesDate']).dt.date\n",
    "df.head()\n"
   ]
  },
  {
   "cell_type": "code",
   "execution_count": 6,
   "metadata": {},
   "outputs": [
    {
     "name": "stderr",
     "output_type": "stream",
     "text": [
      "C:\\Users\\apoor\\AppData\\Local\\Temp\\ipykernel_15412\\551706805.py:1: FutureWarning: to_gbq is deprecated and will be removed in a future version. Please use pandas_gbq.to_gbq instead: https://pandas-gbq.readthedocs.io/en/latest/api.html#pandas_gbq.to_gbq\n",
      "  df.to_gbq(\n",
      "100%|██████████| 1/1 [00:00<00:00, 1005.11it/s]\n"
     ]
    }
   ],
   "source": [
    "df.to_gbq(\n",
    "    destination_table='walmartsales.modified_sales', \n",
    "    project_id='lab1-449822',            \n",
    "    if_exists='fail', \n",
    ")"
   ]
  }
 ],
 "metadata": {
  "kernelspec": {
   "display_name": "base",
   "language": "python",
   "name": "python3"
  },
  "language_info": {
   "codemirror_mode": {
    "name": "ipython",
    "version": 3
   },
   "file_extension": ".py",
   "mimetype": "text/x-python",
   "name": "python",
   "nbconvert_exporter": "python",
   "pygments_lexer": "ipython3",
   "version": "3.12.4"
  }
 },
 "nbformat": 4,
 "nbformat_minor": 2
}
